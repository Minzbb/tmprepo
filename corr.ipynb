{
 "cells": [
  {
   "cell_type": "markdown",
   "id": "7f74506c",
   "metadata": {},
   "source": [
    "https://zhuanlan.zhihu.com/p/268354289"
   ]
  },
  {
   "cell_type": "markdown",
   "id": "dc18021c",
   "metadata": {},
   "source": [
    "- 样本矩阵：\n",
    "\n",
    "    - $m$ 维随机变量：$\\mathbf{x} = (x_1, x_2, \\dots, x_m)^\\top\\in \\mathbb{R}^m$\n",
    "    - $n$ 次独立观测样本：$X = [\\mathbf{x_1, x_2, \\dots, x_n}] \\in \\mathbb{R}^{m\\times n}$, $X = [x_{ij}]_{i=1,\\dots, m, j=1,\\dots, n}$\n",
    "    - 样本均值：$\\bar{x}_i = \\frac{1}{n} \\sum_{j=1,\\dots, n} x_{ij},\\quad \\bar{x} = (\\bar{x}_1, \\dots, \\bar{x}_m)^\\top = \\frac{1}{n} \\sum_{j=1,\\dots, n} \\mathbf{x_j}$\n",
    "- 协方差：\n",
    "    - 协方差 $s_{ij} = \\frac{1}{n-1} \\sum_{k=1}^n (x_{ik} - \\bar{x}_i)(x_{jk} - \\bar{x}_j),\\quad i,j = 1,\\dots, m$\n",
    "    - 协方差矩阵: $S = [s_{ij}]_{m\\times m} = \\frac{1}{n-1} XX^\\top$\n",
    "    - 方差: $s_{ii}, i = 1,\\dots, m$"
   ]
  },
  {
   "cell_type": "markdown",
   "id": "09227e81",
   "metadata": {},
   "source": [
    "- 样本矩阵规范化: $x^*_{ij} = \\frac{x_{ij}-\\bar{x}_i}{\\sqrt{s_{ii}}}, \\quad i=1,\\dots, m,\\ j=1,\\dots, n$\n",
    "- 相关系数：\n",
    "    - 相关系数: $r_{ij} = \\frac{s_{ij}}{\\sqrt{s_{ii}s_{jj}}}, \\quad i,j = 1,\\dots, m$\n",
    "    - 相关系数矩阵: $R = [r_{ij}]_{m\\times m}$\n",
    "    - 如果 $X$ 是规范化后的样本矩阵: $R = S$"
   ]
  },
  {
   "cell_type": "markdown",
   "id": "1a10bc10",
   "metadata": {},
   "source": [
    "- 数据分布\n",
    "- 抽样分布：\n",
    "    - 统计量在多个样本或重抽样中的频数分布\n",
    "    - 注意区分抽样分布和数据分布\n",
    "- 中心极限定理：数据分布不服从正态分布，样本均值的抽样分布呈正态分布的趋势（t 分布 - 近似正态分布）\n",
    "- 标准误差(standard error)：样本均值的变异性 $SE = \\frac{s}{\\sqrt{n}}$, n-样本规模(sample size)，s-数据的标准差(standard deviation)\n",
    "- Bootstrap：一种有放回的重抽样方法（包括自助过程和混洗过程），几乎适用于所有统计量分布的估计\n",
    "- 参数估计，区间估计，置信区间：An x% confidence interval around a sample estimate should, on average, contain similar sample estimates x% of the time "
   ]
  },
  {
   "cell_type": "markdown",
   "id": "55501dfc",
   "metadata": {},
   "source": [
    "https://www.cnblogs.com/hdu-zsk/p/6293721.html\n",
    "\n",
    "- 假设检验：\n",
    "    - 假设：对随机变量总体的参数或总体分布做出一个假设；\n",
    "    - 检验：利用样本信息判断假设是否合理。\n",
    "    \n",
    "- 假设检验的基本思想是“小概率事件”原理，其统计推断方法是带有某种概率性质的反证法：\n",
    "    - 反证法：\n",
    "        - 假设观测到的现象是随机随机现象（无实际意义）：Null-Hypothesis；\n",
    "        - Alternative-hypothesis: 真实有意义；\n",
    "        - 假设 Null-hypothesis 成立，如果样本观察值导致了“小概率事件”发生，则拒绝该假设，从而证明观测到的事件真实有意义；\n",
    "    - 小概率：“小概率事件”的概率越小，否定原假设H0就越有说服力，常记这个概率值为α(0<α<1)，称为检验的显著性水平。\n",
    "    - Significance tests are used to determine whether an observed effect is within the range of chance variation for a null hypothesis model.\n",
    "    - The p-value is the probability that results as extreme as the observed results might occur, given a null hypothesis model.\n",
    "    - The alpha value is the threshold of “unusualness” in a null hypothesis chance model.\n",
    "    - 错误：错误拒绝零假设（第一类错误）；对于有意义事件接受零假设（第二类错误）；\n",
    "    \n",
    "- 显著性检验可分为参数检验和非参数检验：\n",
    "    - 参数检验：参数检验要求样本来源于正态总体（服从正态分布），且这些正态总体拥有相同的方差，在这样的基本假定（正态性假定和方差齐性假定）下检验各总体均值是否相等，属于参数检验。\n",
    "    - 非参数检验：当数据不满足正态性和方差齐性假定时，参数检验可能会给出错误的答案，此时应采用基于秩的非参数检验。Kruskal-Wallis检验，Friedman检验。    \n",
    "    \n",
    "\n",
    "    \n",
    "\n",
    "- 显著性：科学实验中实验组与对照组之间有统计学意义下的显著差异\n",
    "- 显著性检验：是假设检验的一种, 把只限定第一类错误概率的统计假设检验就称之为显著性检验。\n",
    "\n",
    "\n",
    "\n",
    "- AB test 与方差分析"
   ]
  },
  {
   "cell_type": "markdown",
   "id": "7f6d5607",
   "metadata": {},
   "source": [
    "- 线性回归\n",
    "    - 样本: $(X, y),\\ y\\in \\mathbb{R}^n, X\\in \\mathbb{R}^{n\\times m}$\n",
    "    - 回归模型：$\\hat{y} = f(x) = w^\\top x + b = \\hat{w}^\\top \\hat{x}$; \n",
    "    - Residual: $SE = (y-\\hat{X}\\hat{w})^\\top(y-\\hat{X}\\hat{w})$\n",
    "- 广义线性：\n",
    "    - 单调可微函数 $g(\\cdot)$: $\\hat{y} = g^{-1}(w^\\top x + b)$\n",
    "    - log-linear regression: $g(\\cdot) = \\ln(\\cdot)$\n",
    "    - logistic regression: $g(\\cdot) = \\log\\left(\\frac{\\bullet}{1-\\bullet}\\right)$ log-odd function; $g^{-1}(\\cdot)$ sigmoid function.\n",
    "- 多项式：\n",
    "    - 一元 $n$ 次：$\\hat{y} = a_0 + a_1 x + x_2 x^2 + \\cdots + a_n x^n$\n",
    "    - 二元二次：$\\hat{y} = b_0 + b_1 x_1 + b_2 x_2 + b_3 x_1^2 + b_4 x_2^2 + b_5 x_1 x_2$\n",
    "    - 缺点：\n",
    "        - 当多项式的幂较高时，可能特征的一个微小变化都会被放大，也就是很容易过拟合，\n",
    "        - 另一方面它是非局部的，也就是说改变训练集上某一点的 y 值，即使其他离他很远的点也会受到影响。\n",
    "- 样条回归：\n",
    "    - 多项式回归的改进\n",
    "    - 分段多项式回归，节点处平滑连接 $C^2$\n",
    "    - 节点的选择：\n",
    "        - 在数据变化较剧烈的位置设置节点\n",
    "        - 数据变化复杂的地方多设置节点\n",
    "        - 平均分配节点\n",
    "- 广义加性模型（GAM)：pyGAM package.\n",
    "- 局部加权回归 loess: loess 函数重复地对临近子集拟合一系列本地回归，进而实现平滑。\n",
    "- kernel_regression in statsmodels"
   ]
  },
  {
   "cell_type": "markdown",
   "id": "310033d8",
   "metadata": {},
   "source": [
    "- https://de.wikipedia.org/wiki/Erklärte_Quadratsumme\n",
    "- https://de.wikipedia.org/wiki/Bestimmtheitsmaß#Konstruktion\n",
    "- https://de.wikipedia.org/wiki/Homoskedastizität_und_Heteroskedastizität\n",
    "- https://de.wikipedia.org/wiki/Lineare_Einfachregression#Schätzung_der_Regressionsparameter_und_der_Störgrößen\n",
    "- https://de.wikipedia.org/wiki/Satz_von_Gauß-Markow\n",
    "- https://de.wikipedia.org/wiki/Regressionsdiagnostik\n",
    "- https://de.wikipedia.org/wiki/Multiple_lineare_Regression\n",
    "\n",
    "Assessing:\n",
    "- residual sum of squares (RSS)/the sum of squared residuals (SSR)/the sum of squared estimate of errors (SSE): $$SSE = \\sum_{i=1}^n (y_i - \\hat{y_i})^2$$\n",
    "- Mean squared error: $$MSE = \\frac{1}{n} \\sum_{i=1}^n (y_i - \\hat{y_i})^2$$\n",
    "- Root mean squared error: $$RMSE = \\sqrt{\\frac{\\sum_{i=1}^n (y_i - \\hat{y_i})^2}{n}}$$\n",
    "- Residual standard error:$$RSE = \\sqrt{\\frac{\\sum_{i=1}^n (y_i - \\hat{y_i})^2}{n-p-1}}$$\n",
    "    - n 样本容量；\n",
    "    - p 预测变量的个数；\n",
    "    - DF. of model: p\n",
    "    - DF. of residual: n-(p+1), +1代表常数项\n",
    "- R-square...\n",
    "    - sum of squares regression: $SSR = \\sum_{i=1}^n (\\hat{y_i}-\\bar{y})^2$\n",
    "    - sum of squares total: $ SST = \\sum_{i=1}^n (y_i - \\bar{y})^2$\n",
    "    - $SST = SSR + SSE$\n",
    "    - $R^2 = \\frac{SSR}{SST} = \\frac{SST-SSE}{SST}$\n",
    "    - R-square = Correlation^2（OLS?)\n",
    "        - 单变量\n",
    "        - 多变量\n",
    "        \n",
    "- Adjusted R-square: $Adj-R^2 = 1-\\frac{(n-1)(1-R^2)}{n-p-1}$\n",
    "- t-statistic\n",
    "- F-statistic\n",
    "- AIC BIC\n",
    "\n",
    "Interpreting:\n",
    "- correlated variables\n",
    "- multicollinearity(https://zhuanlan.zhihu.com/p/72722146)\n",
    "    - 在进行线性回归分析时，容易出现自变量（解释变量）之间彼此相关的现象，我们称这种现象为多重共线性。\n",
    "    - 当出现严重共线性问题时，会导致分析结果不稳定，出现回归系数的符号与实际情况完全相反的情况。本应该显著的自变量不显著，本不显著的自变量却呈现出显著性\n",
    "    - Variance Inflation Factor, VIF;\n",
    "    - 处理方法：相关分析，手动去除共线性变量；逐步回回；岭回归等\n",
    "- confounding variables（https://www.scribbr.com/methodology/confounding-variables/）：\n",
    "    - 混淆变量是指与自变量和因变量均相关的外部变量，该变量使自变量和因变量间产生虚假的关系。\n",
    "        - 与自变量相关，但未必是因果关系\n",
    "        - 与因变量是因果关系\n",
    "        - 这种情况下观察到的效果effect是由混淆变量造成的，而非自变量\n",
    "    - 如冰激凌消费量与晒伤数量有相关性，混淆变量是温度\n",
    "- main effects/interactions: \n",
    "    - 如果A因素对因变量的效应在B因素的不同水平上有差异（或者反过来），那么就说A和B之间有交互作用\n",
    "    - main effect: the relationship between a predictor and the outcome variable, independent of other variables.\n",
    "- 伪交互作用???\n",
    "\n",
    "\n",
    "Diagnostics:\n",
    "- Outliers\n",
    "    - 在回归模型中判断离群值 Standardized residuals: the number of standard error away from the regression line (=residual/standard error of resuduals).\n",
    "\n",
    "- Influential value: 一个记录是否存在会显著地改变回归方程\n",
    "    - hat-value\n",
    "    - cook's distance\n",
    "- Non-normal residuals：非正态分布的残差\n",
    "- heteroskedasticity：异方差性是指在整个预测范围内不具有一个恒定的残差变异性。正态分布的残差通常表示一个模型是完整的(complete), 异方差性可能表示模型在某些方面的缺失。\n",
    "- Partial residual plots"
   ]
  },
  {
   "cell_type": "markdown",
   "id": "da0d9186",
   "metadata": {},
   "source": [
    "两种参数估计方法：\n",
    "\n",
    "目标函数\n",
    "最小二乘：最小化平方和损失函数\n",
    "极大似然估计：最大化似然函数\n",
    "\n",
    "\n",
    "思想：\n",
    "最小二乘法：对于 n 组观测样本，最合理的参数估计使模型的误差值最小；\n",
    "最大似然法：对于 n 组观测样本，最合理的参数估计值得从模型中抽取的该n组样本观测值的概率最大（即给定观察数据，反推最有可能性导致该样本结果的模型参数值）。\n",
    "在最大似然法中，通过选择参数，使已知数据在某种意义下最有可能出现，而某种意义通常指似然函数最大，而似然函数又往往指数据的概率分布函数。与最小二乘法不同的是，最大似然法需要已知这个概率分布函数，这在实践中是很困难的。\n",
    "极大似然估计需要满足一个假设：数据中的每个样本都是独立同分布的\n",
    "一般假设其满足正态分布函数的特性，在这种情况下，最大似然估计和最小二乘估计相同。\n",
    "\n",
    "\n",
    "处理线性回归并假设单一样本的概率函数为正态分布时，通过极大似然估计法得到的模型优化的目标函数和最小二乘法下的目标函数是相同的。\n",
    "\n",
    "\n",
    "- 求解最优化问题的方法：\n",
    "    - 梯度下降\n",
    "    - 牛顿"
   ]
  },
  {
   "cell_type": "code",
   "execution_count": null,
   "id": "d6405cf8",
   "metadata": {},
   "outputs": [],
   "source": []
  },
  {
   "cell_type": "markdown",
   "id": "ccf47b20",
   "metadata": {},
   "source": [
    "- 信息熵：\n",
    "    - 用于表示随机变量的不确定定性。\n",
    "    - Entropy is the expected value of the surprise.\n",
    "    - $X$ 随机变量，$H(X) = \\sum_x p(x)\\log\\left(\\frac{1}{p(x)}\\right) = -\\sum_x p(x)\\log(p(x))$.\n",
    "- 条件熵：\n",
    "    - 用于表示给定一个随机变量 $X$ 的条件下，另一个随机变量 $Y$ 的不确定性。\n",
    "    - $H(Y|X) = \\sum_x p(x) H(Y|X=x)$.\n",
    "- 互信息：\n",
    "    - 表示得知特征 $X$ 的信息而使得 $Y$ 的信息的不确定性减少的程度：$H(Y) - H(Y|X)$\n",
    "    - 信息增益：树模型中特征 $A$ 对训练集 $D$ 的信息增益：$g(D,A) = H(D) - H(D|A)$\n",
    "- 树模型与特征选择：对于训练数据集 $D$，计算每个特征的信息增益，并选择信息增益较大的特征（信息增益大的特征具有更强的分类能力）。"
   ]
  },
  {
   "cell_type": "markdown",
   "id": "881fde21",
   "metadata": {},
   "source": [
    "概率密度估计/估计数据分布：\n",
    "\n",
    "- 参数估计方法：假定样本集符合某一概率分布，然后根据样本集拟合该分布中的参数，由于参数估计方法中需要加入主观的先验知识，往往很难拟合出与真实分布的模型。如高斯混合模型（GMM）\n",
    "\n",
    "- 非参数估计方法：非参数估计并不加入任何先验知识，而是根据数据本身的特点、性质来拟合分布，这样能比参数估计方法得出更好的模型。如核密度估计（KDE）\n",
    "\n",
    "\n",
    "https://blog.csdn.net/weixin_37801695/article/details/84918980\n",
    "\n",
    "https://blog.csdn.net/omade/article/details/17145281\n",
    "\n",
    "https://blog.csdn.net/yuanxing14/article/details/41948485"
   ]
  },
  {
   "cell_type": "markdown",
   "id": "78cd8b60",
   "metadata": {},
   "source": [
    "- quantile plot\n",
    "- QQ-plot: 查看数据是否符合某一种分布，查看不同数据是否服从同一分布（或两组数据各自服从分布的相似性）"
   ]
  },
  {
   "cell_type": "markdown",
   "id": "0feaae2a",
   "metadata": {},
   "source": [
    "- log transform/ Cox-box\n",
    "- rescale\n",
    "\n",
    "\n",
    "- \n",
    "- 长尾分布\n",
    "- 伪交互作用\n",
    "\n",
    "https://zhuanlan.zhihu.com/p/38956042"
   ]
  },
  {
   "cell_type": "markdown",
   "id": "1b6c967f",
   "metadata": {},
   "source": [
    "检验，亦称 student t 检验 (Student’s t test)，主要用户样本含量较小 (例如 n<30) 总体标准差 $sigma$ 未知的正态分布。T 检验是用 t 分布理论来推论差异发生的概率，从而比较两个平均数的差异是否显著。它与 F 检验、卡方检验并列。T 检验是戈斯特为了观测酿酒质量而发明的，并于 1908 年在 Biometrika 上发布"
   ]
  },
  {
   "cell_type": "markdown",
   "id": "ea8b74fe",
   "metadata": {},
   "source": [
    "## 正态性假定和方差齐性假定？？\n",
    "\n",
    "https://www.dazhuanlan.com/weieie/topics/1273059\n",
    "\n",
    "https://blog.csdn.net/hellocsz/article/details/80718644\n",
    "\n",
    "https://wenku.baidu.com/view/39e6dbaf360cba1aa911da17.html\n",
    "\n",
    "https://zhuanlan.zhihu.com/p/161790879\n",
    "\n",
    "\n",
    "- 异方差性（不恒定方差）Heteroskedasticity：异方差性（heteroscedasticity ）是相对于同方差而言的.所谓同方差,是为了保证回归参数估计量具有良好的统计性质,经典线性回归模型的一个重要假定：总体回归函数中的随机误差项满足同方差性,即它们都有相同的方差.如果这一假定不满足,即：随机误差项具有不同的方差,则称线性回归模型存在异方差性.所谓残差是指观测值与预测值（拟合值）之间的差,即是实际观察值与回归估计值的差. 若线性回归模型存在异方差性，则用传统的最小二乘法 (OLS)估计模型，得到的参数估计量不是有效估计量，甚至也不是渐进有效的估计量；此时也无法对模型参数进行有关显著性校验。\n",
    "\n",
    "- 异方差破坏古典模型的基本假定：在古典回归模型的假定下，普通最小二乘法估计量是线性、无偏、有效估计量，即在所有无偏估计量中，最小二乘法估计量具有最小方差性——它是个有效估计量。如果在其他假定不变的条件下，允许随机扰动项 ui（离差Ui=Yi-E(Y|Xi)）存在异方差性，即 ui的方差随观测值的变化而变化，这就违背了最小二乘法估计的高斯——马尔柯夫假设，这时如果继续使用最小二乘法对参数进行估计，就会产生以下后果：\n",
    "    - 参数估计量仍然是线性无偏的，但不是有效的；\n",
    "    - 异方差模型中的方差不再具有最小方差性；\n",
    "    - T 检验失去作用；\n",
    "    - 模型的预测作用遭到破坏。\n",
    "\n",
    "- 异方差的检测：事实证明，实际问题中经常会出现异方差性，这将影响回归模型的估计、检验和应用。因此在建立回归模型时应检验模型是否存在异方差性。异方差性检验方法如下:\n",
    "    - 图示校验法\n",
    "    - Goldfeld-Quandt 校验\n",
    "    - White 校验发\n",
    "    - Park 校验法\n",
    "    - Gleiser 校验法\n",
    "\n",
    "- 存在异方差性解决方法:\n",
    "    - 对模型变换，当可以确定异方差的具体形式时，将模型作适当变换有可能消除或减轻异方差的影响。\n",
    "    - 使用加权最小二乘法，对原模型变换的方法与加权二乘法实际上是等价的，可以消除异方差。\n",
    "    - 对数变换，运用对数变换能使测定变量值的尺度缩小。它可以将两个数值之间原来 10 倍的差异缩小到只有 2 倍的差异。其次，经过对数变换后的线性模型，其残差表示相对误差，而相对误差往往比绝对误差有较小的差异。"
   ]
  },
  {
   "cell_type": "markdown",
   "id": "56ae2e78",
   "metadata": {},
   "source": [
    "长尾分布"
   ]
  },
  {
   "cell_type": "markdown",
   "id": "da914682",
   "metadata": {},
   "source": []
  },
  {
   "cell_type": "markdown",
   "id": "7d143b51",
   "metadata": {},
   "source": [
    "时间序列：https://wenku.baidu.com/view/ee5efbecf8b069dc5022aaea998fcc22bcd14317.html"
   ]
  },
  {
   "cell_type": "markdown",
   "id": "2be208d2",
   "metadata": {},
   "source": [
    "通过添加惩罚项来避免过拟合：\n",
    "- 岭回归：最小化残差平方和，并对系数的**数量**和**大小**添加惩罚项（使用欧氏距离）：\n",
    "$$ \\sum_{i=1}^n (Y_i - \\hat{b}_0 - \\hat{b}_1 X_1 - \\dots - \\hat{b}_p X_p)^2 + \\lambda (\\hat{b}_1^2 + \\dots + \\hat{b}_p^2)$$\n",
    "- Lasso 回归（惩罚项使用的是曼哈顿距离）：\n",
    "$$\\sum_{i=1}^n (Y_i - \\hat{b}_0 - \\hat{b}_1 X_1 - \\dots - \\hat{b}_p X_p)^2 + \\alpha (|\\hat{b}_1| + \\dots + |\\hat{b}_p|)$$\n",
    "- $\\lambda,\\ \\alpha$ 决定了系数惩罚的程度。"
   ]
  },
  {
   "cell_type": "markdown",
   "id": "b5ced517",
   "metadata": {},
   "source": [
    "回归模型中的异方差性：\n",
    "- 异方差性指在整个预测值范围内不具有一个恒定的残差变异性\n",
    "- 异方差性表明在不同的预测值范围内，预测误差存在差异，还表明模型可能并不完整"
   ]
  },
  {
   "cell_type": "markdown",
   "id": "7c73dafd",
   "metadata": {},
   "source": [
    "回归模型的统计量: t, R-square, F-statistic, AIC, BIC ...\n",
    "\n",
    "- https://quantifyinghealth.com/f-statistic-in-linear-regression/\n",
    "- https://www.statology.org/t-test-linear-regression/\n",
    "- https://medium.com/swlh/covariance-correlation-r-sqaured-5cbefc5cbe1c\n",
    "- https://danshiebler.com/2017-06-25-metrics/"
   ]
  },
  {
   "cell_type": "markdown",
   "id": "dbf59914",
   "metadata": {},
   "source": [
    "F 统计量：\n",
    "- 定义\n",
    "- 全局检验：在所有的预测变量$X_1,\\ X_2 \\dots, $中是否存在与目标变量 $Y$ 相关的变量。\n",
    "- 对于显著性水平 $\\alpha=0.05$:\n",
    "    - 如果F统计量对应的 p-value >= 0.05: 则所有预测变量与目标变量间都是无关的；\n",
    "    - 如果F统计量对应的 p-value < 0.05: 则至少存在一个预测变量与目标变量相关。"
   ]
  },
  {
   "cell_type": "markdown",
   "id": "43e923be",
   "metadata": {},
   "source": [
    "t 统计量：\n",
    "- 检验各回归系数的显著性:\n",
    "    - $H_0$: $\\beta_i = 0$;\n",
    "    - $H_1$: $\\beta_i \\neq 0$.\n",
    "- 定义：$t = \\frac{b}{SE_b}$:\n",
    "    - $b$: 参数的估计值\n",
    "    - $SE_b$: 参数估计值的 standard error\n",
    "- 如果 p-value<0.05, 则拒绝原假设，系数对应的预测变量与目标变量之间存在（统计）显著的关系。\n",
    "- 注意：不能使用参数的显著性确定回归模型全局的显著性。"
   ]
  },
  {
   "cell_type": "markdown",
   "id": "74750b2b",
   "metadata": {},
   "source": [
    "## permutation test"
   ]
  },
  {
   "cell_type": "markdown",
   "id": "4df035a3",
   "metadata": {},
   "source": [
    "## t-检验 & A/B test\n",
    "- t-statistic\n",
    "- t-distribution: 参考分布\n",
    "\n",
    "- `scipy.stats.ttest_ind`\n",
    "- \n",
    "- https://en.wikipedia.org/wiki/Student's_t-test\n"
   ]
  },
  {
   "cell_type": "markdown",
   "id": "6e801b8a",
   "metadata": {},
   "source": [
    "## F-检验\n",
    "- https://en.wikipedia.org/wiki/F-test"
   ]
  },
  {
   "cell_type": "markdown",
   "id": "919fda40",
   "metadata": {},
   "source": [
    "- Type 1 error: 无显著性判别为有显著性\n",
    "- type 2 error: 有显著性判定为无显著性\n"
   ]
  },
  {
   "cell_type": "markdown",
   "id": "5211f824",
   "metadata": {},
   "source": [
    "**Torture the data long enough**, and it will **confress**.\n",
    "\n",
    "If you have 20 predictor variables and one outcome variable, all randomly generated, the odds are pretty good that **at least one predictor** will (falsely) turn out to be statistically significant if you do a series of **20 significance tests** at the alpha = 0.05 level.\n",
    "\n",
    "通过限制 0.05 的显著性水平从而给定了一个统计量抽样分布中的一个范围，表示在 H0 成立条件下，做多次重抽样得到的所有样本中有不超过 5% 的观测值在该范围之外（即如果 H0 成立，alpha=0.05的显著性检验正确得到非显著性结果的概率为 95%）。\n",
    "\n",
    "p-value 与alpha相似，但针对某一个样本来说的，如果这个样本越极端则得到比该样本更极端的观测值的可能性就越小，由这样的样本给出的显著性的结论犯第一类错误的可能性就越小。\n",
    "\n",
    "\n",
    "```\n",
    "事实\\推断 | 显著    |   不显著\n",
    "------------------------------\n",
    "显著     | 正确    |  第二类错误\n",
    "------------------------------\n",
    "不显著   | 第一类错误(5%) | 正确\n",
    "```\n",
    "\n"
   ]
  },
  {
   "cell_type": "markdown",
   "id": "87744856",
   "metadata": {},
   "source": [
    "**statsmodels.OLS**: https://www.statsmodels.org/dev/examples/notebooks/generated/ols.html"
   ]
  },
  {
   "cell_type": "code",
   "execution_count": 1,
   "id": "98cc6c4f",
   "metadata": {},
   "outputs": [],
   "source": [
    "%matplotlib inline\n",
    "import matplotlib.pyplot as plt\n",
    "import numpy as np\n",
    "import pandas as pd\n",
    "import statsmodels.api as sm\n",
    "\n",
    "np.random.seed(9876789)"
   ]
  },
  {
   "cell_type": "code",
   "execution_count": 2,
   "id": "55806458",
   "metadata": {},
   "outputs": [],
   "source": [
    "nsample = 100\n",
    "x = np.linspace(0, 10, 100)\n",
    "X = np.column_stack((x, x ** 2))\n",
    "beta = np.array([1, 0.1, 10])\n",
    "e = np.random.normal(size=nsample)"
   ]
  },
  {
   "cell_type": "code",
   "execution_count": 5,
   "id": "96cd6f38",
   "metadata": {},
   "outputs": [],
   "source": [
    "X = sm.add_constant(X)\n",
    "y = np.dot(X, beta) + e"
   ]
  },
  {
   "cell_type": "code",
   "execution_count": 7,
   "id": "0e089c5e",
   "metadata": {},
   "outputs": [
    {
     "name": "stdout",
     "output_type": "stream",
     "text": [
      "                            OLS Regression Results                            \n",
      "==============================================================================\n",
      "Dep. Variable:                      y   R-squared:                       1.000\n",
      "Model:                            OLS   Adj. R-squared:                  1.000\n",
      "Method:                 Least Squares   F-statistic:                 4.020e+06\n",
      "Date:                Sun, 05 Dec 2021   Prob (F-statistic):          2.83e-239\n",
      "Time:                        17:48:39   Log-Likelihood:                -146.51\n",
      "No. Observations:                 100   AIC:                             299.0\n",
      "Df Residuals:                      97   BIC:                             306.8\n",
      "Df Model:                           2                                         \n",
      "Covariance Type:            nonrobust                                         \n",
      "==============================================================================\n",
      "                 coef    std err          t      P>|t|      [0.025      0.975]\n",
      "------------------------------------------------------------------------------\n",
      "const          1.3423      0.313      4.292      0.000       0.722       1.963\n",
      "x1            -0.0402      0.145     -0.278      0.781      -0.327       0.247\n",
      "x2            10.0103      0.014    715.745      0.000       9.982      10.038\n",
      "==============================================================================\n",
      "Omnibus:                        2.042   Durbin-Watson:                   2.274\n",
      "Prob(Omnibus):                  0.360   Jarque-Bera (JB):                1.875\n",
      "Skew:                           0.234   Prob(JB):                        0.392\n",
      "Kurtosis:                       2.519   Cond. No.                         144.\n",
      "==============================================================================\n",
      "\n",
      "Warnings:\n",
      "[1] Standard Errors assume that the covariance matrix of the errors is correctly specified.\n"
     ]
    }
   ],
   "source": [
    "model = sm.OLS(y, X)\n",
    "results = model.fit()\n",
    "print(results.summary())"
   ]
  },
  {
   "cell_type": "code",
   "execution_count": null,
   "id": "68155cf9",
   "metadata": {},
   "outputs": [],
   "source": []
  },
  {
   "cell_type": "markdown",
   "id": "9bd914cd",
   "metadata": {},
   "source": [
    "p37: stationaty(or weakly stationary) time series, which is characterized by a constant mean E(x_t) and correlation that depends only on the time lag between two time steps, but independent of the value of the time step."
   ]
  },
  {
   "cell_type": "markdown",
   "id": "beb69697",
   "metadata": {},
   "source": [
    "https://analyzingalpha.com/stationarity\n",
    "\n",
    "\n",
    "- 平稳性(stationarity)对于时间序列的预测很重要：\n",
    "    - Statistical estimation 的基本假设：sample statistics do not alter and will hold for entities that are outside the sample used for their estimation\n",
    "    - Time series analysis 的基本假设：means, variance and autocorrelation estimated from the sample can be used as a reasonable estimate for future occurrences, which is known as stationarity. In other words, we assume that the internal structures of the series do not change over time.\n",
    "- 实际的时间序列数据通常不是平稳的，而不平稳通常由于 Trend, seasonality...\n",
    "    - 整体趋势：时间序列在较长持续期内表现出来的总趋势，如沿一个方向持续上升、下降或在一个水平上波动；\n",
    "    - 周期性变动：时间序列在整体趋势的基础上可能呈现一定的周期变化特征；\n",
    "    - 循环变动：数据以较长周期呈现的波峰，波谷交替出现的往复运动；（车辆数据较少有这样的特征）；\n",
    "    - Irregular variations 与时间无关（不能将时间作为解释变量），通常由于缺少解释变量（时间以外的其他变量）或随机噪声。\n",
    "\n",
    "- 时间序列的分解\n",
    "    - 加法模型\n",
    "    - 乘法模型\n",
    "    - 程序\n",
    "- 一种探索时间序列的方法流程：\n",
    "    - 使用数据可视化观察是否有 trend, seasonality, cyclical patterns\n",
    "    - 移除 trend and seasonality 得到平稳序列\n",
    "- 剩余部分不能使用时间作为解释变量，可以使用外部变量建立模型\n",
    "- 流程图！！\n",
    "\n",
    "- house prices might exhibit both trend and seasonal (for example, quarterly)variations. However, the residuals left after adjusting trend and seasonality might actually depend on exogenous variables, such as total floor space, number of floors in the building and so on."
   ]
  },
  {
   "cell_type": "code",
   "execution_count": null,
   "id": "e22686b1",
   "metadata": {},
   "outputs": [],
   "source": []
  },
  {
   "cell_type": "code",
   "execution_count": null,
   "id": "583da687",
   "metadata": {},
   "outputs": [],
   "source": [
    "statsmodels.tsa # package\n",
    "statsmodels.tsa.stattools.adfuller() # Augmented Dickey-Fuller test\n",
    "decompose_model = statsmodels.tsa.seasonal.seasonal_decompose()\n",
    "decompose_model.trend􏰌􏰡\n",
    "decompose_model.seasonal\n",
    "decompose_model.resid"
   ]
  },
  {
   "cell_type": "code",
   "execution_count": 6,
   "id": "fdf5d6a8",
   "metadata": {},
   "outputs": [],
   "source": [
    "import statsmodels.api as sm  \n",
    "decompose_model = sm.tsa.seasonal_decompose(ts.values,freq=12,model=\"multiplicative\")"
   ]
  },
  {
   "cell_type": "code",
   "execution_count": null,
   "id": "fd24dc03",
   "metadata": {},
   "outputs": [],
   "source": []
  }
 ],
 "metadata": {
  "kernelspec": {
   "display_name": "Python 3 (ipykernel)",
   "language": "python",
   "name": "python3"
  },
  "language_info": {
   "codemirror_mode": {
    "name": "ipython",
    "version": 3
   },
   "file_extension": ".py",
   "mimetype": "text/x-python",
   "name": "python",
   "nbconvert_exporter": "python",
   "pygments_lexer": "ipython3",
   "version": "3.7.10"
  }
 },
 "nbformat": 4,
 "nbformat_minor": 5
}
